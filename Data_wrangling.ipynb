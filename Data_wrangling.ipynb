{
 "cells": [
  {
   "cell_type": "markdown",
   "metadata": {},
   "source": [
    "# Data Wrangling"
   ]
  },
  {
   "cell_type": "markdown",
   "metadata": {},
   "source": [
    "* Repositories and users which were created from 2015-01-01 to 2015-12-31 in Github.  \n",
    "* Data preparing for visualizations and stats of GitHub's newest, most popular repos."
   ]
  },
  {
   "cell_type": "markdown",
   "metadata": {},
   "source": [
    "### Merge and tidy repos.csv and users.csv tables to prepare for visualization"
   ]
  },
  {
   "cell_type": "code",
   "execution_count": 1,
   "metadata": {
    "collapsed": true
   },
   "outputs": [],
   "source": [
    "import pandas as pd"
   ]
  },
  {
   "cell_type": "markdown",
   "metadata": {},
   "source": [
    "## Prepare Repo Data"
   ]
  },
  {
   "cell_type": "markdown",
   "metadata": {},
   "source": [
    "### Load repos data and drop duplicates"
   ]
  },
  {
   "cell_type": "code",
   "execution_count": 2,
   "metadata": {
    "collapsed": false,
    "scrolled": false
   },
   "outputs": [
    {
     "name": "stdout",
     "output_type": "stream",
     "text": [
      "('Shape before dropping duplicates', (7057, 28))\n"
     ]
    },
    {
     "name": "stderr",
     "output_type": "stream",
     "text": [
      "Skipping line 1017: expected 28 fields, saw 31\n",
      "Skipping line 2773: expected 28 fields, saw 30\n",
      "Skipping line 5735: expected 28 fields, saw 31\n",
      "\n"
     ]
    }
   ],
   "source": [
    "repos = pd.read_csv(\"repos-dump.csv\", quotechar = '\"', skipinitialspace = True, error_bad_lines = False)\n",
    "print('Shape before dropping duplicates', repos.shape)"
   ]
  },
  {
   "cell_type": "markdown",
   "metadata": {},
   "source": [
    "* The quotechar is used to denote the start and end of a quoted item;  \n",
    "* The skipinitialspace is used to skip spaces after delimiter."
   ]
  },
  {
   "cell_type": "code",
   "execution_count": 3,
   "metadata": {
    "collapsed": false
   },
   "outputs": [
    {
     "name": "stdout",
     "output_type": "stream",
     "text": [
      "('Shape after  dropping duplicates', (7056, 28))\n"
     ]
    }
   ],
   "source": [
    "repos = repos.drop_duplicates(subset = 'full_name', keep = 'last')\n",
    "print('Shape after  dropping duplicates', repos.shape)"
   ]
  },
  {
   "cell_type": "code",
   "execution_count": 8,
   "metadata": {
    "collapsed": false,
    "scrolled": false
   },
   "outputs": [
    {
     "data": {
      "text/html": [
       "<div>\n",
       "<table border=\"1\" class=\"dataframe\">\n",
       "  <thead>\n",
       "    <tr style=\"text-align: right;\">\n",
       "      <th></th>\n",
       "      <th>full_name</th>\n",
       "      <th>stars</th>\n",
       "      <th>forks</th>\n",
       "      <th>description</th>\n",
       "      <th>language</th>\n",
       "    </tr>\n",
       "  </thead>\n",
       "  <tbody>\n",
       "    <tr>\n",
       "      <th>0</th>\n",
       "      <td>facebook/react-native</td>\n",
       "      <td>24783</td>\n",
       "      <td>4198</td>\n",
       "      <td>A framework for building native apps with React.</td>\n",
       "      <td>JavaScript</td>\n",
       "    </tr>\n",
       "    <tr>\n",
       "      <th>1</th>\n",
       "      <td>NARKOZ/hacker-scripts</td>\n",
       "      <td>19836</td>\n",
       "      <td>3553</td>\n",
       "      <td>Based on a true story</td>\n",
       "      <td>JavaScript</td>\n",
       "    </tr>\n",
       "    <tr>\n",
       "      <th>2</th>\n",
       "      <td>rackt/redux</td>\n",
       "      <td>11612</td>\n",
       "      <td>1180</td>\n",
       "      <td>Predictable state container for JavaScript apps</td>\n",
       "      <td>JavaScript</td>\n",
       "    </tr>\n",
       "    <tr>\n",
       "      <th>3</th>\n",
       "      <td>bevacqua/dragula</td>\n",
       "      <td>10737</td>\n",
       "      <td>593</td>\n",
       "      <td>:ok_hand: Drag and drop so simple it hurts</td>\n",
       "      <td>JavaScript</td>\n",
       "    </tr>\n",
       "    <tr>\n",
       "      <th>4</th>\n",
       "      <td>zenorocha/clipboard.js</td>\n",
       "      <td>10268</td>\n",
       "      <td>438</td>\n",
       "      <td>:scissors: Modern copy to clipboard. No Flash....</td>\n",
       "      <td>JavaScript</td>\n",
       "    </tr>\n",
       "  </tbody>\n",
       "</table>\n",
       "</div>"
      ],
      "text/plain": [
       "                full_name  stars  forks  \\\n",
       "0   facebook/react-native  24783   4198   \n",
       "1   NARKOZ/hacker-scripts  19836   3553   \n",
       "2             rackt/redux  11612   1180   \n",
       "3        bevacqua/dragula  10737    593   \n",
       "4  zenorocha/clipboard.js  10268    438   \n",
       "\n",
       "                                         description    language  \n",
       "0   A framework for building native apps with React.  JavaScript  \n",
       "1                              Based on a true story  JavaScript  \n",
       "2    Predictable state container for JavaScript apps  JavaScript  \n",
       "3         :ok_hand: Drag and drop so simple it hurts  JavaScript  \n",
       "4  :scissors: Modern copy to clipboard. No Flash....  JavaScript  "
      ]
     },
     "execution_count": 8,
     "metadata": {},
     "output_type": "execute_result"
    }
   ],
   "source": [
    "# Drop the columns: 5th to 27th\n",
    "repos.drop(repos.columns[range(5,28)], axis = 1, inplace = True) \n",
    "repos.head()"
   ]
  },
  {
   "cell_type": "markdown",
   "metadata": {},
   "source": [
    "#### Separate out the user and repo from full_name into new columns:"
   ]
  },
  {
   "cell_type": "code",
   "execution_count": 13,
   "metadata": {
    "collapsed": false
   },
   "outputs": [
    {
     "data": {
      "text/html": [
       "<div>\n",
       "<table border=\"1\" class=\"dataframe\">\n",
       "  <thead>\n",
       "    <tr style=\"text-align: right;\">\n",
       "      <th></th>\n",
       "      <th>full_name</th>\n",
       "      <th>stars</th>\n",
       "      <th>forks</th>\n",
       "      <th>description</th>\n",
       "      <th>language</th>\n",
       "      <th>user</th>\n",
       "      <th>repo</th>\n",
       "    </tr>\n",
       "  </thead>\n",
       "  <tbody>\n",
       "    <tr>\n",
       "      <th>0</th>\n",
       "      <td>facebook/react-native</td>\n",
       "      <td>24783</td>\n",
       "      <td>4198</td>\n",
       "      <td>A framework for building native apps with React.</td>\n",
       "      <td>JavaScript</td>\n",
       "      <td>facebook</td>\n",
       "      <td>react-native</td>\n",
       "    </tr>\n",
       "    <tr>\n",
       "      <th>1</th>\n",
       "      <td>NARKOZ/hacker-scripts</td>\n",
       "      <td>19836</td>\n",
       "      <td>3553</td>\n",
       "      <td>Based on a true story</td>\n",
       "      <td>JavaScript</td>\n",
       "      <td>NARKOZ</td>\n",
       "      <td>hacker-scripts</td>\n",
       "    </tr>\n",
       "    <tr>\n",
       "      <th>2</th>\n",
       "      <td>rackt/redux</td>\n",
       "      <td>11612</td>\n",
       "      <td>1180</td>\n",
       "      <td>Predictable state container for JavaScript apps</td>\n",
       "      <td>JavaScript</td>\n",
       "      <td>rackt</td>\n",
       "      <td>redux</td>\n",
       "    </tr>\n",
       "    <tr>\n",
       "      <th>3</th>\n",
       "      <td>bevacqua/dragula</td>\n",
       "      <td>10737</td>\n",
       "      <td>593</td>\n",
       "      <td>:ok_hand: Drag and drop so simple it hurts</td>\n",
       "      <td>JavaScript</td>\n",
       "      <td>bevacqua</td>\n",
       "      <td>dragula</td>\n",
       "    </tr>\n",
       "    <tr>\n",
       "      <th>4</th>\n",
       "      <td>zenorocha/clipboard.js</td>\n",
       "      <td>10268</td>\n",
       "      <td>438</td>\n",
       "      <td>:scissors: Modern copy to clipboard. No Flash....</td>\n",
       "      <td>JavaScript</td>\n",
       "      <td>zenorocha</td>\n",
       "      <td>clipboard.js</td>\n",
       "    </tr>\n",
       "  </tbody>\n",
       "</table>\n",
       "</div>"
      ],
      "text/plain": [
       "                full_name  stars  forks  \\\n",
       "0   facebook/react-native  24783   4198   \n",
       "1   NARKOZ/hacker-scripts  19836   3553   \n",
       "2             rackt/redux  11612   1180   \n",
       "3        bevacqua/dragula  10737    593   \n",
       "4  zenorocha/clipboard.js  10268    438   \n",
       "\n",
       "                                         description    language       user  \\\n",
       "0   A framework for building native apps with React.  JavaScript   facebook   \n",
       "1                              Based on a true story  JavaScript     NARKOZ   \n",
       "2    Predictable state container for JavaScript apps  JavaScript      rackt   \n",
       "3         :ok_hand: Drag and drop so simple it hurts  JavaScript   bevacqua   \n",
       "4  :scissors: Modern copy to clipboard. No Flash....  JavaScript  zenorocha   \n",
       "\n",
       "             repo  \n",
       "0    react-native  \n",
       "1  hacker-scripts  \n",
       "2           redux  \n",
       "3         dragula  \n",
       "4    clipboard.js  "
      ]
     },
     "execution_count": 13,
     "metadata": {},
     "output_type": "execute_result"
    }
   ],
   "source": [
    "def extract_user(line):\n",
    "    return line.split('/')[0]\n",
    "                      \n",
    "def extract_repo(line):\n",
    "    return line.split('/')[1]\n",
    "\n",
    "repos['user'] = repos['full_name'].apply(extract_user)\n",
    "repos['repo'] = repos['full_name'].apply(extract_repo)\n",
    "\n",
    "repos.head()"
   ]
  },
  {
   "cell_type": "markdown",
   "metadata": {},
   "source": [
    "## Prepare User Data"
   ]
  },
  {
   "cell_type": "markdown",
   "metadata": {},
   "source": [
    "### Load user data and drop duplicates"
   ]
  },
  {
   "cell_type": "code",
   "execution_count": 14,
   "metadata": {
    "collapsed": false
   },
   "outputs": [
    {
     "name": "stdout",
     "output_type": "stream",
     "text": [
      "('Shape before dropping duplicates', (5103, 8))\n"
     ]
    }
   ],
   "source": [
    "users = pd.read_csv(\"user-geocodes-dump.csv\", quotechar='\"', skipinitialspace=True)\n",
    "print('Shape before dropping duplicates', users.shape)"
   ]
  },
  {
   "cell_type": "code",
   "execution_count": 15,
   "metadata": {
    "collapsed": false
   },
   "outputs": [
    {
     "name": "stdout",
     "output_type": "stream",
     "text": [
      "('Shape after  dropping duplicates', (5103, 8))\n"
     ]
    }
   ],
   "source": [
    "users = users.drop_duplicates(subset = 'id', keep = 'last')\n",
    "print('Shape after  dropping duplicates', users.shape)"
   ]
  },
  {
   "cell_type": "code",
   "execution_count": 16,
   "metadata": {
    "collapsed": false
   },
   "outputs": [
    {
     "data": {
      "text/html": [
       "<div>\n",
       "<table border=\"1\" class=\"dataframe\">\n",
       "  <thead>\n",
       "    <tr style=\"text-align: right;\">\n",
       "      <th></th>\n",
       "      <th>id</th>\n",
       "      <th>name</th>\n",
       "      <th>type</th>\n",
       "      <th>location</th>\n",
       "      <th>lat</th>\n",
       "      <th>long</th>\n",
       "      <th>city</th>\n",
       "      <th>country</th>\n",
       "    </tr>\n",
       "  </thead>\n",
       "  <tbody>\n",
       "    <tr>\n",
       "      <th>0</th>\n",
       "      <td>KOWLOR</td>\n",
       "      <td>Malik Dellidj</td>\n",
       "      <td>User</td>\n",
       "      <td>Lille, France</td>\n",
       "      <td>50.629250</td>\n",
       "      <td>3.057256</td>\n",
       "      <td>Lille</td>\n",
       "      <td>France</td>\n",
       "    </tr>\n",
       "    <tr>\n",
       "      <th>1</th>\n",
       "      <td>souporserious</td>\n",
       "      <td>Travis Arnold</td>\n",
       "      <td>User</td>\n",
       "      <td>San Marcos, CA</td>\n",
       "      <td>33.143372</td>\n",
       "      <td>-117.166145</td>\n",
       "      <td>San Marcos</td>\n",
       "      <td>United States</td>\n",
       "    </tr>\n",
       "    <tr>\n",
       "      <th>2</th>\n",
       "      <td>pcqpcq</td>\n",
       "      <td>Joker</td>\n",
       "      <td>User</td>\n",
       "      <td>Fuzhou, China</td>\n",
       "      <td>26.074508</td>\n",
       "      <td>119.296494</td>\n",
       "      <td>Fuzhou</td>\n",
       "      <td>China</td>\n",
       "    </tr>\n",
       "    <tr>\n",
       "      <th>3</th>\n",
       "      <td>ant4g0nist</td>\n",
       "      <td>Chaithu</td>\n",
       "      <td>User</td>\n",
       "      <td>NaN</td>\n",
       "      <td>NaN</td>\n",
       "      <td>NaN</td>\n",
       "      <td>NaN</td>\n",
       "      <td>NaN</td>\n",
       "    </tr>\n",
       "    <tr>\n",
       "      <th>4</th>\n",
       "      <td>cs231n</td>\n",
       "      <td>NaN</td>\n",
       "      <td>User</td>\n",
       "      <td>NaN</td>\n",
       "      <td>NaN</td>\n",
       "      <td>NaN</td>\n",
       "      <td>NaN</td>\n",
       "      <td>NaN</td>\n",
       "    </tr>\n",
       "  </tbody>\n",
       "</table>\n",
       "</div>"
      ],
      "text/plain": [
       "              id           name  type        location        lat        long  \\\n",
       "0         KOWLOR  Malik Dellidj  User   Lille, France  50.629250    3.057256   \n",
       "1  souporserious  Travis Arnold  User  San Marcos, CA  33.143372 -117.166145   \n",
       "2         pcqpcq          Joker  User   Fuzhou, China  26.074508  119.296494   \n",
       "3     ant4g0nist        Chaithu  User             NaN        NaN         NaN   \n",
       "4         cs231n            NaN  User             NaN        NaN         NaN   \n",
       "\n",
       "         city        country  \n",
       "0       Lille         France  \n",
       "1  San Marcos  United States  \n",
       "2      Fuzhou          China  \n",
       "3         NaN            NaN  \n",
       "4         NaN            NaN  "
      ]
     },
     "execution_count": 16,
     "metadata": {},
     "output_type": "execute_result"
    }
   ],
   "source": [
    "users.head()"
   ]
  },
  {
   "cell_type": "markdown",
   "metadata": {},
   "source": [
    "#### rename column id to user"
   ]
  },
  {
   "cell_type": "code",
   "execution_count": 17,
   "metadata": {
    "collapsed": false
   },
   "outputs": [
    {
     "data": {
      "text/html": [
       "<div>\n",
       "<table border=\"1\" class=\"dataframe\">\n",
       "  <thead>\n",
       "    <tr style=\"text-align: right;\">\n",
       "      <th></th>\n",
       "      <th>user</th>\n",
       "      <th>name</th>\n",
       "      <th>type</th>\n",
       "      <th>location</th>\n",
       "      <th>lat</th>\n",
       "      <th>long</th>\n",
       "      <th>city</th>\n",
       "      <th>country</th>\n",
       "    </tr>\n",
       "  </thead>\n",
       "  <tbody>\n",
       "    <tr>\n",
       "      <th>0</th>\n",
       "      <td>KOWLOR</td>\n",
       "      <td>Malik Dellidj</td>\n",
       "      <td>User</td>\n",
       "      <td>Lille, France</td>\n",
       "      <td>50.629250</td>\n",
       "      <td>3.057256</td>\n",
       "      <td>Lille</td>\n",
       "      <td>France</td>\n",
       "    </tr>\n",
       "    <tr>\n",
       "      <th>1</th>\n",
       "      <td>souporserious</td>\n",
       "      <td>Travis Arnold</td>\n",
       "      <td>User</td>\n",
       "      <td>San Marcos, CA</td>\n",
       "      <td>33.143372</td>\n",
       "      <td>-117.166145</td>\n",
       "      <td>San Marcos</td>\n",
       "      <td>United States</td>\n",
       "    </tr>\n",
       "    <tr>\n",
       "      <th>2</th>\n",
       "      <td>pcqpcq</td>\n",
       "      <td>Joker</td>\n",
       "      <td>User</td>\n",
       "      <td>Fuzhou, China</td>\n",
       "      <td>26.074508</td>\n",
       "      <td>119.296494</td>\n",
       "      <td>Fuzhou</td>\n",
       "      <td>China</td>\n",
       "    </tr>\n",
       "    <tr>\n",
       "      <th>3</th>\n",
       "      <td>ant4g0nist</td>\n",
       "      <td>Chaithu</td>\n",
       "      <td>User</td>\n",
       "      <td>NaN</td>\n",
       "      <td>NaN</td>\n",
       "      <td>NaN</td>\n",
       "      <td>NaN</td>\n",
       "      <td>NaN</td>\n",
       "    </tr>\n",
       "    <tr>\n",
       "      <th>4</th>\n",
       "      <td>cs231n</td>\n",
       "      <td>NaN</td>\n",
       "      <td>User</td>\n",
       "      <td>NaN</td>\n",
       "      <td>NaN</td>\n",
       "      <td>NaN</td>\n",
       "      <td>NaN</td>\n",
       "      <td>NaN</td>\n",
       "    </tr>\n",
       "  </tbody>\n",
       "</table>\n",
       "</div>"
      ],
      "text/plain": [
       "            user           name  type        location        lat        long  \\\n",
       "0         KOWLOR  Malik Dellidj  User   Lille, France  50.629250    3.057256   \n",
       "1  souporserious  Travis Arnold  User  San Marcos, CA  33.143372 -117.166145   \n",
       "2         pcqpcq          Joker  User   Fuzhou, China  26.074508  119.296494   \n",
       "3     ant4g0nist        Chaithu  User             NaN        NaN         NaN   \n",
       "4         cs231n            NaN  User             NaN        NaN         NaN   \n",
       "\n",
       "         city        country  \n",
       "0       Lille         France  \n",
       "1  San Marcos  United States  \n",
       "2      Fuzhou          China  \n",
       "3         NaN            NaN  \n",
       "4         NaN            NaN  "
      ]
     },
     "execution_count": 17,
     "metadata": {},
     "output_type": "execute_result"
    }
   ],
   "source": [
    "users.rename(columns = {'id': 'user'}, inplace = True)\n",
    "users.head()"
   ]
  },
  {
   "cell_type": "markdown",
   "metadata": {},
   "source": [
    "## Merge Repo and User Data"
   ]
  },
  {
   "cell_type": "code",
   "execution_count": 19,
   "metadata": {
    "collapsed": false
   },
   "outputs": [
    {
     "data": {
      "text/html": [
       "<div>\n",
       "<table border=\"1\" class=\"dataframe\">\n",
       "  <thead>\n",
       "    <tr style=\"text-align: right;\">\n",
       "      <th></th>\n",
       "      <th>full_name</th>\n",
       "      <th>stars</th>\n",
       "      <th>forks</th>\n",
       "      <th>description</th>\n",
       "      <th>language</th>\n",
       "      <th>user</th>\n",
       "      <th>repo</th>\n",
       "      <th>name</th>\n",
       "      <th>type</th>\n",
       "      <th>location</th>\n",
       "      <th>lat</th>\n",
       "      <th>long</th>\n",
       "      <th>city</th>\n",
       "      <th>country</th>\n",
       "    </tr>\n",
       "  </thead>\n",
       "  <tbody>\n",
       "    <tr>\n",
       "      <th>0</th>\n",
       "      <td>facebook/react-native</td>\n",
       "      <td>24783</td>\n",
       "      <td>4198</td>\n",
       "      <td>A framework for building native apps with React.</td>\n",
       "      <td>JavaScript</td>\n",
       "      <td>facebook</td>\n",
       "      <td>react-native</td>\n",
       "      <td>Facebook</td>\n",
       "      <td>User</td>\n",
       "      <td>Menlo Park, California</td>\n",
       "      <td>37.452960</td>\n",
       "      <td>-122.181725</td>\n",
       "      <td>Menlo Park</td>\n",
       "      <td>United States</td>\n",
       "    </tr>\n",
       "    <tr>\n",
       "      <th>1</th>\n",
       "      <td>NARKOZ/hacker-scripts</td>\n",
       "      <td>19836</td>\n",
       "      <td>3553</td>\n",
       "      <td>Based on a true story</td>\n",
       "      <td>JavaScript</td>\n",
       "      <td>NARKOZ</td>\n",
       "      <td>hacker-scripts</td>\n",
       "      <td>Nihad Abbasov</td>\n",
       "      <td>User</td>\n",
       "      <td>Katowice, Poland</td>\n",
       "      <td>50.264892</td>\n",
       "      <td>19.023782</td>\n",
       "      <td>Katowice</td>\n",
       "      <td>Poland</td>\n",
       "    </tr>\n",
       "    <tr>\n",
       "      <th>2</th>\n",
       "      <td>rackt/redux</td>\n",
       "      <td>11612</td>\n",
       "      <td>1180</td>\n",
       "      <td>Predictable state container for JavaScript apps</td>\n",
       "      <td>JavaScript</td>\n",
       "      <td>rackt</td>\n",
       "      <td>redux</td>\n",
       "      <td>NaN</td>\n",
       "      <td>User</td>\n",
       "      <td>NaN</td>\n",
       "      <td>NaN</td>\n",
       "      <td>NaN</td>\n",
       "      <td>NaN</td>\n",
       "      <td>NaN</td>\n",
       "    </tr>\n",
       "    <tr>\n",
       "      <th>3</th>\n",
       "      <td>bevacqua/dragula</td>\n",
       "      <td>10737</td>\n",
       "      <td>593</td>\n",
       "      <td>:ok_hand: Drag and drop so simple it hurts</td>\n",
       "      <td>JavaScript</td>\n",
       "      <td>bevacqua</td>\n",
       "      <td>dragula</td>\n",
       "      <td>Nicolás Bevacqua</td>\n",
       "      <td>User</td>\n",
       "      <td>https://twitter.com/nzgb</td>\n",
       "      <td>NaN</td>\n",
       "      <td>NaN</td>\n",
       "      <td>NaN</td>\n",
       "      <td>NaN</td>\n",
       "    </tr>\n",
       "    <tr>\n",
       "      <th>4</th>\n",
       "      <td>zenorocha/clipboard.js</td>\n",
       "      <td>10268</td>\n",
       "      <td>438</td>\n",
       "      <td>:scissors: Modern copy to clipboard. No Flash....</td>\n",
       "      <td>JavaScript</td>\n",
       "      <td>zenorocha</td>\n",
       "      <td>clipboard.js</td>\n",
       "      <td>Zeno Rocha</td>\n",
       "      <td>User</td>\n",
       "      <td>Los Angeles, CA</td>\n",
       "      <td>34.052234</td>\n",
       "      <td>-118.243685</td>\n",
       "      <td>Los Angeles</td>\n",
       "      <td>United States</td>\n",
       "    </tr>\n",
       "  </tbody>\n",
       "</table>\n",
       "</div>"
      ],
      "text/plain": [
       "                full_name  stars  forks  \\\n",
       "0   facebook/react-native  24783   4198   \n",
       "1   NARKOZ/hacker-scripts  19836   3553   \n",
       "2             rackt/redux  11612   1180   \n",
       "3        bevacqua/dragula  10737    593   \n",
       "4  zenorocha/clipboard.js  10268    438   \n",
       "\n",
       "                                         description    language       user  \\\n",
       "0   A framework for building native apps with React.  JavaScript   facebook   \n",
       "1                              Based on a true story  JavaScript     NARKOZ   \n",
       "2    Predictable state container for JavaScript apps  JavaScript      rackt   \n",
       "3         :ok_hand: Drag and drop so simple it hurts  JavaScript   bevacqua   \n",
       "4  :scissors: Modern copy to clipboard. No Flash....  JavaScript  zenorocha   \n",
       "\n",
       "             repo              name  type                  location  \\\n",
       "0    react-native          Facebook  User    Menlo Park, California   \n",
       "1  hacker-scripts     Nihad Abbasov  User          Katowice, Poland   \n",
       "2           redux               NaN  User                       NaN   \n",
       "3         dragula  Nicolás Bevacqua  User  https://twitter.com/nzgb   \n",
       "4    clipboard.js        Zeno Rocha  User           Los Angeles, CA   \n",
       "\n",
       "         lat        long         city        country  \n",
       "0  37.452960 -122.181725   Menlo Park  United States  \n",
       "1  50.264892   19.023782     Katowice         Poland  \n",
       "2        NaN         NaN          NaN            NaN  \n",
       "3        NaN         NaN          NaN            NaN  \n",
       "4  34.052234 -118.243685  Los Angeles  United States  "
      ]
     },
     "execution_count": 19,
     "metadata": {},
     "output_type": "execute_result"
    }
   ],
   "source": [
    "repos_users = pd.merge(repos, users, on = 'user', how = 'left')\n",
    "\n",
    "repos_users.head()"
   ]
  },
  {
   "cell_type": "code",
   "execution_count": 20,
   "metadata": {
    "collapsed": false
   },
   "outputs": [
    {
     "data": {
      "text/plain": [
       "(7056, 14)"
      ]
     },
     "execution_count": 20,
     "metadata": {},
     "output_type": "execute_result"
    }
   ],
   "source": [
    "repos_users.shape"
   ]
  },
  {
   "cell_type": "markdown",
   "metadata": {},
   "source": [
    "## Tidy up repo and user data"
   ]
  },
  {
   "cell_type": "markdown",
   "metadata": {},
   "source": [
    "#### Re-order the columns:"
   ]
  },
  {
   "cell_type": "code",
   "execution_count": 21,
   "metadata": {
    "collapsed": false
   },
   "outputs": [
    {
     "data": {
      "text/html": [
       "<div>\n",
       "<table border=\"1\" class=\"dataframe\">\n",
       "  <thead>\n",
       "    <tr style=\"text-align: right;\">\n",
       "      <th></th>\n",
       "      <th>full_name</th>\n",
       "      <th>repo</th>\n",
       "      <th>description</th>\n",
       "      <th>stars</th>\n",
       "      <th>forks</th>\n",
       "      <th>language</th>\n",
       "      <th>user</th>\n",
       "      <th>name</th>\n",
       "      <th>type</th>\n",
       "      <th>location</th>\n",
       "      <th>lat</th>\n",
       "      <th>long</th>\n",
       "      <th>city</th>\n",
       "      <th>country</th>\n",
       "    </tr>\n",
       "  </thead>\n",
       "  <tbody>\n",
       "    <tr>\n",
       "      <th>0</th>\n",
       "      <td>facebook/react-native</td>\n",
       "      <td>react-native</td>\n",
       "      <td>A framework for building native apps with React.</td>\n",
       "      <td>24783</td>\n",
       "      <td>4198</td>\n",
       "      <td>JavaScript</td>\n",
       "      <td>facebook</td>\n",
       "      <td>Facebook</td>\n",
       "      <td>User</td>\n",
       "      <td>Menlo Park, California</td>\n",
       "      <td>37.452960</td>\n",
       "      <td>-122.181725</td>\n",
       "      <td>Menlo Park</td>\n",
       "      <td>United States</td>\n",
       "    </tr>\n",
       "    <tr>\n",
       "      <th>1</th>\n",
       "      <td>NARKOZ/hacker-scripts</td>\n",
       "      <td>hacker-scripts</td>\n",
       "      <td>Based on a true story</td>\n",
       "      <td>19836</td>\n",
       "      <td>3553</td>\n",
       "      <td>JavaScript</td>\n",
       "      <td>NARKOZ</td>\n",
       "      <td>Nihad Abbasov</td>\n",
       "      <td>User</td>\n",
       "      <td>Katowice, Poland</td>\n",
       "      <td>50.264892</td>\n",
       "      <td>19.023782</td>\n",
       "      <td>Katowice</td>\n",
       "      <td>Poland</td>\n",
       "    </tr>\n",
       "    <tr>\n",
       "      <th>2</th>\n",
       "      <td>rackt/redux</td>\n",
       "      <td>redux</td>\n",
       "      <td>Predictable state container for JavaScript apps</td>\n",
       "      <td>11612</td>\n",
       "      <td>1180</td>\n",
       "      <td>JavaScript</td>\n",
       "      <td>rackt</td>\n",
       "      <td>NaN</td>\n",
       "      <td>User</td>\n",
       "      <td>NaN</td>\n",
       "      <td>NaN</td>\n",
       "      <td>NaN</td>\n",
       "      <td>NaN</td>\n",
       "      <td>NaN</td>\n",
       "    </tr>\n",
       "    <tr>\n",
       "      <th>3</th>\n",
       "      <td>bevacqua/dragula</td>\n",
       "      <td>dragula</td>\n",
       "      <td>:ok_hand: Drag and drop so simple it hurts</td>\n",
       "      <td>10737</td>\n",
       "      <td>593</td>\n",
       "      <td>JavaScript</td>\n",
       "      <td>bevacqua</td>\n",
       "      <td>Nicolás Bevacqua</td>\n",
       "      <td>User</td>\n",
       "      <td>https://twitter.com/nzgb</td>\n",
       "      <td>NaN</td>\n",
       "      <td>NaN</td>\n",
       "      <td>NaN</td>\n",
       "      <td>NaN</td>\n",
       "    </tr>\n",
       "    <tr>\n",
       "      <th>4</th>\n",
       "      <td>zenorocha/clipboard.js</td>\n",
       "      <td>clipboard.js</td>\n",
       "      <td>:scissors: Modern copy to clipboard. No Flash....</td>\n",
       "      <td>10268</td>\n",
       "      <td>438</td>\n",
       "      <td>JavaScript</td>\n",
       "      <td>zenorocha</td>\n",
       "      <td>Zeno Rocha</td>\n",
       "      <td>User</td>\n",
       "      <td>Los Angeles, CA</td>\n",
       "      <td>34.052234</td>\n",
       "      <td>-118.243685</td>\n",
       "      <td>Los Angeles</td>\n",
       "      <td>United States</td>\n",
       "    </tr>\n",
       "  </tbody>\n",
       "</table>\n",
       "</div>"
      ],
      "text/plain": [
       "                full_name            repo  \\\n",
       "0   facebook/react-native    react-native   \n",
       "1   NARKOZ/hacker-scripts  hacker-scripts   \n",
       "2             rackt/redux           redux   \n",
       "3        bevacqua/dragula         dragula   \n",
       "4  zenorocha/clipboard.js    clipboard.js   \n",
       "\n",
       "                                         description  stars  forks  \\\n",
       "0   A framework for building native apps with React.  24783   4198   \n",
       "1                              Based on a true story  19836   3553   \n",
       "2    Predictable state container for JavaScript apps  11612   1180   \n",
       "3         :ok_hand: Drag and drop so simple it hurts  10737    593   \n",
       "4  :scissors: Modern copy to clipboard. No Flash....  10268    438   \n",
       "\n",
       "     language       user              name  type                  location  \\\n",
       "0  JavaScript   facebook          Facebook  User    Menlo Park, California   \n",
       "1  JavaScript     NARKOZ     Nihad Abbasov  User          Katowice, Poland   \n",
       "2  JavaScript      rackt               NaN  User                       NaN   \n",
       "3  JavaScript   bevacqua  Nicolás Bevacqua  User  https://twitter.com/nzgb   \n",
       "4  JavaScript  zenorocha        Zeno Rocha  User           Los Angeles, CA   \n",
       "\n",
       "         lat        long         city        country  \n",
       "0  37.452960 -122.181725   Menlo Park  United States  \n",
       "1  50.264892   19.023782     Katowice         Poland  \n",
       "2        NaN         NaN          NaN            NaN  \n",
       "3        NaN         NaN          NaN            NaN  \n",
       "4  34.052234 -118.243685  Los Angeles  United States  "
      ]
     },
     "execution_count": 21,
     "metadata": {},
     "output_type": "execute_result"
    }
   ],
   "source": [
    "repos_users = repos_users.reindex_axis(['full_name',\n",
    "                                        'repo',\n",
    "                                        'description',\n",
    "                                        'stars',\n",
    "                                        'forks',\n",
    "                                        'language',\n",
    "                                        'user',\n",
    "                                        'name',\n",
    "                                        'type',\n",
    "                                        'location',\n",
    "                                        'lat',\n",
    "                                        'long',\n",
    "                                        'city',\n",
    "                                        'country'], axis=1)\n",
    "repos_users.head()"
   ]
  },
  {
   "cell_type": "markdown",
   "metadata": {},
   "source": [
    "## Add Overall Ranks"
   ]
  },
  {
   "cell_type": "markdown",
   "metadata": {},
   "source": [
    "#### Rank each element based on number of stars:"
   ]
  },
  {
   "cell_type": "code",
   "execution_count": 22,
   "metadata": {
    "collapsed": false
   },
   "outputs": [
    {
     "data": {
      "text/html": [
       "<div>\n",
       "<table border=\"1\" class=\"dataframe\">\n",
       "  <thead>\n",
       "    <tr style=\"text-align: right;\">\n",
       "      <th></th>\n",
       "      <th>full_name</th>\n",
       "      <th>repo</th>\n",
       "      <th>description</th>\n",
       "      <th>stars</th>\n",
       "      <th>forks</th>\n",
       "      <th>language</th>\n",
       "      <th>user</th>\n",
       "      <th>name</th>\n",
       "      <th>type</th>\n",
       "      <th>location</th>\n",
       "      <th>lat</th>\n",
       "      <th>long</th>\n",
       "      <th>city</th>\n",
       "      <th>country</th>\n",
       "      <th>rank</th>\n",
       "    </tr>\n",
       "  </thead>\n",
       "  <tbody>\n",
       "    <tr>\n",
       "      <th>0</th>\n",
       "      <td>facebook/react-native</td>\n",
       "      <td>react-native</td>\n",
       "      <td>A framework for building native apps with React.</td>\n",
       "      <td>24783</td>\n",
       "      <td>4198</td>\n",
       "      <td>JavaScript</td>\n",
       "      <td>facebook</td>\n",
       "      <td>Facebook</td>\n",
       "      <td>User</td>\n",
       "      <td>Menlo Park, California</td>\n",
       "      <td>37.452960</td>\n",
       "      <td>-122.181725</td>\n",
       "      <td>Menlo Park</td>\n",
       "      <td>United States</td>\n",
       "      <td>2.0</td>\n",
       "    </tr>\n",
       "    <tr>\n",
       "      <th>1</th>\n",
       "      <td>NARKOZ/hacker-scripts</td>\n",
       "      <td>hacker-scripts</td>\n",
       "      <td>Based on a true story</td>\n",
       "      <td>19836</td>\n",
       "      <td>3553</td>\n",
       "      <td>JavaScript</td>\n",
       "      <td>NARKOZ</td>\n",
       "      <td>Nihad Abbasov</td>\n",
       "      <td>User</td>\n",
       "      <td>Katowice, Poland</td>\n",
       "      <td>50.264892</td>\n",
       "      <td>19.023782</td>\n",
       "      <td>Katowice</td>\n",
       "      <td>Poland</td>\n",
       "      <td>4.0</td>\n",
       "    </tr>\n",
       "    <tr>\n",
       "      <th>2</th>\n",
       "      <td>rackt/redux</td>\n",
       "      <td>redux</td>\n",
       "      <td>Predictable state container for JavaScript apps</td>\n",
       "      <td>11612</td>\n",
       "      <td>1180</td>\n",
       "      <td>JavaScript</td>\n",
       "      <td>rackt</td>\n",
       "      <td>NaN</td>\n",
       "      <td>User</td>\n",
       "      <td>NaN</td>\n",
       "      <td>NaN</td>\n",
       "      <td>NaN</td>\n",
       "      <td>NaN</td>\n",
       "      <td>NaN</td>\n",
       "      <td>9.0</td>\n",
       "    </tr>\n",
       "    <tr>\n",
       "      <th>3</th>\n",
       "      <td>bevacqua/dragula</td>\n",
       "      <td>dragula</td>\n",
       "      <td>:ok_hand: Drag and drop so simple it hurts</td>\n",
       "      <td>10737</td>\n",
       "      <td>593</td>\n",
       "      <td>JavaScript</td>\n",
       "      <td>bevacqua</td>\n",
       "      <td>Nicolás Bevacqua</td>\n",
       "      <td>User</td>\n",
       "      <td>https://twitter.com/nzgb</td>\n",
       "      <td>NaN</td>\n",
       "      <td>NaN</td>\n",
       "      <td>NaN</td>\n",
       "      <td>NaN</td>\n",
       "      <td>10.0</td>\n",
       "    </tr>\n",
       "    <tr>\n",
       "      <th>4</th>\n",
       "      <td>zenorocha/clipboard.js</td>\n",
       "      <td>clipboard.js</td>\n",
       "      <td>:scissors: Modern copy to clipboard. No Flash....</td>\n",
       "      <td>10268</td>\n",
       "      <td>438</td>\n",
       "      <td>JavaScript</td>\n",
       "      <td>zenorocha</td>\n",
       "      <td>Zeno Rocha</td>\n",
       "      <td>User</td>\n",
       "      <td>Los Angeles, CA</td>\n",
       "      <td>34.052234</td>\n",
       "      <td>-118.243685</td>\n",
       "      <td>Los Angeles</td>\n",
       "      <td>United States</td>\n",
       "      <td>11.0</td>\n",
       "    </tr>\n",
       "  </tbody>\n",
       "</table>\n",
       "</div>"
      ],
      "text/plain": [
       "                full_name            repo  \\\n",
       "0   facebook/react-native    react-native   \n",
       "1   NARKOZ/hacker-scripts  hacker-scripts   \n",
       "2             rackt/redux           redux   \n",
       "3        bevacqua/dragula         dragula   \n",
       "4  zenorocha/clipboard.js    clipboard.js   \n",
       "\n",
       "                                         description  stars  forks  \\\n",
       "0   A framework for building native apps with React.  24783   4198   \n",
       "1                              Based on a true story  19836   3553   \n",
       "2    Predictable state container for JavaScript apps  11612   1180   \n",
       "3         :ok_hand: Drag and drop so simple it hurts  10737    593   \n",
       "4  :scissors: Modern copy to clipboard. No Flash....  10268    438   \n",
       "\n",
       "     language       user              name  type                  location  \\\n",
       "0  JavaScript   facebook          Facebook  User    Menlo Park, California   \n",
       "1  JavaScript     NARKOZ     Nihad Abbasov  User          Katowice, Poland   \n",
       "2  JavaScript      rackt               NaN  User                       NaN   \n",
       "3  JavaScript   bevacqua  Nicolás Bevacqua  User  https://twitter.com/nzgb   \n",
       "4  JavaScript  zenorocha        Zeno Rocha  User           Los Angeles, CA   \n",
       "\n",
       "         lat        long         city        country  rank  \n",
       "0  37.452960 -122.181725   Menlo Park  United States   2.0  \n",
       "1  50.264892   19.023782     Katowice         Poland   4.0  \n",
       "2        NaN         NaN          NaN            NaN   9.0  \n",
       "3        NaN         NaN          NaN            NaN  10.0  \n",
       "4  34.052234 -118.243685  Los Angeles  United States  11.0  "
      ]
     },
     "execution_count": 22,
     "metadata": {},
     "output_type": "execute_result"
    }
   ],
   "source": [
    "repos_users['rank'] = repos_users['stars'].rank(ascending = False)\n",
    "repos_users.head()"
   ]
  },
  {
   "cell_type": "markdown",
   "metadata": {},
   "source": [
    "The [pandas.DataFrame.rank](http://pandas.pydata.org/pandas-docs/stable/generated/pandas.DataFrame.rank.html) detail."
   ]
  },
  {
   "cell_type": "markdown",
   "metadata": {},
   "source": [
    "#### How did the user(donnemartin) perform in the github (2015-01-01..2015-12-31)?"
   ]
  },
  {
   "cell_type": "code",
   "execution_count": 23,
   "metadata": {
    "collapsed": false
   },
   "outputs": [
    {
     "data": {
      "text/html": [
       "<div>\n",
       "<table border=\"1\" class=\"dataframe\">\n",
       "  <thead>\n",
       "    <tr style=\"text-align: right;\">\n",
       "      <th></th>\n",
       "      <th>full_name</th>\n",
       "      <th>repo</th>\n",
       "      <th>description</th>\n",
       "      <th>stars</th>\n",
       "      <th>forks</th>\n",
       "      <th>language</th>\n",
       "      <th>user</th>\n",
       "      <th>name</th>\n",
       "      <th>type</th>\n",
       "      <th>location</th>\n",
       "      <th>lat</th>\n",
       "      <th>long</th>\n",
       "      <th>city</th>\n",
       "      <th>country</th>\n",
       "      <th>rank</th>\n",
       "    </tr>\n",
       "  </thead>\n",
       "  <tbody>\n",
       "    <tr>\n",
       "      <th>2760</th>\n",
       "      <td>donnemartin/data-science-ipython-notebooks</td>\n",
       "      <td>data-science-ipython-notebooks</td>\n",
       "      <td>Continually updated data science Python notebo...</td>\n",
       "      <td>3945</td>\n",
       "      <td>623</td>\n",
       "      <td>Python</td>\n",
       "      <td>donnemartin</td>\n",
       "      <td>Donne Martin</td>\n",
       "      <td>User</td>\n",
       "      <td>Washington, D.C.</td>\n",
       "      <td>38.907192</td>\n",
       "      <td>-77.036871</td>\n",
       "      <td>Washington</td>\n",
       "      <td>United States</td>\n",
       "      <td>80.0</td>\n",
       "    </tr>\n",
       "    <tr>\n",
       "      <th>2771</th>\n",
       "      <td>donnemartin/saws</td>\n",
       "      <td>saws</td>\n",
       "      <td>A supercharged AWS command line interface (CLI...</td>\n",
       "      <td>2591</td>\n",
       "      <td>88</td>\n",
       "      <td>Python</td>\n",
       "      <td>donnemartin</td>\n",
       "      <td>Donne Martin</td>\n",
       "      <td>User</td>\n",
       "      <td>Washington, D.C.</td>\n",
       "      <td>38.907192</td>\n",
       "      <td>-77.036871</td>\n",
       "      <td>Washington</td>\n",
       "      <td>United States</td>\n",
       "      <td>175.0</td>\n",
       "    </tr>\n",
       "    <tr>\n",
       "      <th>2775</th>\n",
       "      <td>donnemartin/interactive-coding-challenges</td>\n",
       "      <td>interactive-coding-challenges</td>\n",
       "      <td>Continually updated interactive, test-driven P...</td>\n",
       "      <td>2121</td>\n",
       "      <td>256</td>\n",
       "      <td>Python</td>\n",
       "      <td>donnemartin</td>\n",
       "      <td>Donne Martin</td>\n",
       "      <td>User</td>\n",
       "      <td>Washington, D.C.</td>\n",
       "      <td>38.907192</td>\n",
       "      <td>-77.036871</td>\n",
       "      <td>Washington</td>\n",
       "      <td>United States</td>\n",
       "      <td>244.0</td>\n",
       "    </tr>\n",
       "    <tr>\n",
       "      <th>2782</th>\n",
       "      <td>donnemartin/awesome-aws</td>\n",
       "      <td>awesome-aws</td>\n",
       "      <td>A curated list of awesome Amazon Web Services ...</td>\n",
       "      <td>1631</td>\n",
       "      <td>96</td>\n",
       "      <td>Python</td>\n",
       "      <td>donnemartin</td>\n",
       "      <td>Donne Martin</td>\n",
       "      <td>User</td>\n",
       "      <td>Washington, D.C.</td>\n",
       "      <td>38.907192</td>\n",
       "      <td>-77.036871</td>\n",
       "      <td>Washington</td>\n",
       "      <td>United States</td>\n",
       "      <td>352.0</td>\n",
       "    </tr>\n",
       "    <tr>\n",
       "      <th>2783</th>\n",
       "      <td>donnemartin/dev-setup</td>\n",
       "      <td>dev-setup</td>\n",
       "      <td>Mac OS X development environment setup:  Easy-...</td>\n",
       "      <td>1581</td>\n",
       "      <td>197</td>\n",
       "      <td>Python</td>\n",
       "      <td>donnemartin</td>\n",
       "      <td>Donne Martin</td>\n",
       "      <td>User</td>\n",
       "      <td>Washington, D.C.</td>\n",
       "      <td>38.907192</td>\n",
       "      <td>-77.036871</td>\n",
       "      <td>Washington</td>\n",
       "      <td>United States</td>\n",
       "      <td>363.5</td>\n",
       "    </tr>\n",
       "  </tbody>\n",
       "</table>\n",
       "</div>"
      ],
      "text/plain": [
       "                                       full_name  \\\n",
       "2760  donnemartin/data-science-ipython-notebooks   \n",
       "2771                            donnemartin/saws   \n",
       "2775   donnemartin/interactive-coding-challenges   \n",
       "2782                     donnemartin/awesome-aws   \n",
       "2783                       donnemartin/dev-setup   \n",
       "\n",
       "                                repo  \\\n",
       "2760  data-science-ipython-notebooks   \n",
       "2771                            saws   \n",
       "2775   interactive-coding-challenges   \n",
       "2782                     awesome-aws   \n",
       "2783                       dev-setup   \n",
       "\n",
       "                                            description  stars  forks  \\\n",
       "2760  Continually updated data science Python notebo...   3945    623   \n",
       "2771  A supercharged AWS command line interface (CLI...   2591     88   \n",
       "2775  Continually updated interactive, test-driven P...   2121    256   \n",
       "2782  A curated list of awesome Amazon Web Services ...   1631     96   \n",
       "2783  Mac OS X development environment setup:  Easy-...   1581    197   \n",
       "\n",
       "     language         user          name  type          location        lat  \\\n",
       "2760   Python  donnemartin  Donne Martin  User  Washington, D.C.  38.907192   \n",
       "2771   Python  donnemartin  Donne Martin  User  Washington, D.C.  38.907192   \n",
       "2775   Python  donnemartin  Donne Martin  User  Washington, D.C.  38.907192   \n",
       "2782   Python  donnemartin  Donne Martin  User  Washington, D.C.  38.907192   \n",
       "2783   Python  donnemartin  Donne Martin  User  Washington, D.C.  38.907192   \n",
       "\n",
       "           long        city        country   rank  \n",
       "2760 -77.036871  Washington  United States   80.0  \n",
       "2771 -77.036871  Washington  United States  175.0  \n",
       "2775 -77.036871  Washington  United States  244.0  \n",
       "2782 -77.036871  Washington  United States  352.0  \n",
       "2783 -77.036871  Washington  United States  363.5  "
      ]
     },
     "execution_count": 23,
     "metadata": {},
     "output_type": "execute_result"
    }
   ],
   "source": [
    "repos_users[repos_users['user'] == 'donnemartin']"
   ]
  },
  {
   "cell_type": "markdown",
   "metadata": {},
   "source": [
    "#### How about Python?"
   ]
  },
  {
   "cell_type": "code",
   "execution_count": 24,
   "metadata": {
    "collapsed": false
   },
   "outputs": [
    {
     "data": {
      "text/plain": [
       "(552, 15)"
      ]
     },
     "execution_count": 24,
     "metadata": {},
     "output_type": "execute_result"
    }
   ],
   "source": [
    "repos_users[repos_users['language'] == 'Python'].shape"
   ]
  },
  {
   "cell_type": "markdown",
   "metadata": {},
   "source": [
    "#### How about other languages?"
   ]
  },
  {
   "cell_type": "code",
   "execution_count": 27,
   "metadata": {
    "collapsed": false
   },
   "outputs": [],
   "source": [
    "import matplotlib.pyplot as plt\n",
    "%matplotlib inline\n",
    "\n",
    "import seaborn as sns"
   ]
  },
  {
   "cell_type": "code",
   "execution_count": 39,
   "metadata": {
    "collapsed": false
   },
   "outputs": [
    {
     "data": {
      "text/plain": [
       "<seaborn.axisgrid.FacetGrid at 0x6fef390>"
      ]
     },
     "execution_count": 39,
     "metadata": {},
     "output_type": "execute_result"
    },
    {
     "data": {
      "image/png": "[encoded data removed]",
      "text/plain": [
       "<matplotlib.figure.Figure at 0x6fef250>"
      ]
     },
     "metadata": {},
     "output_type": "display_data"
    }
   ],
   "source": [
    "g = sns.factorplot('language', kind = 'count', data = repos_users, size = 7, aspect = 2)\n",
    "g.set_xticklabels(rotation = 90)"
   ]
  },
  {
   "cell_type": "markdown",
   "metadata": {},
   "source": [
    "## Output Results"
   ]
  },
  {
   "cell_type": "markdown",
   "metadata": {},
   "source": [
    "#### Write out the results to csv to visualize in Tableau:"
   ]
  },
  {
   "cell_type": "code",
   "execution_count": 40,
   "metadata": {
    "collapsed": true
   },
   "outputs": [],
   "source": [
    "repos_users.to_csv('new_repos-users-geocodes.csv', index = False)\n",
    "users.to_csv('new_users.csv', index  = False)"
   ]
  },
  {
   "cell_type": "code",
   "execution_count": null,
   "metadata": {
    "collapsed": true
   },
   "outputs": [],
   "source": []
  }
 ],
 "metadata": {
  "kernelspec": {
   "display_name": "Python 2",
   "language": "python",
   "name": "python2"
  },
  "language_info": {
   "codemirror_mode": {
    "name": "ipython",
    "version": 2
   },
   "file_extension": ".py",
   "mimetype": "text/x-python",
   "name": "python",
   "nbconvert_exporter": "python",
   "pygments_lexer": "ipython2",
   "version": "2.7.11"
  }
 },
 "nbformat": 4,
 "nbformat_minor": 0
}
